{
 "cells": [
  {
   "cell_type": "markdown",
   "id": "556a72d3",
   "metadata": {},
   "source": [
    "# Flask"
   ]
  },
  {
   "cell_type": "markdown",
   "id": "2cc8054c",
   "metadata": {},
   "source": [
    "**Источники**:\n",
    "1. Гринберг Мигель. Разработка веб-приложений с использованием Flask на языке Python"
   ]
  },
  {
   "cell_type": "markdown",
   "id": "3ae785aa",
   "metadata": {},
   "source": [
    "## Введение"
   ]
  },
  {
   "cell_type": "markdown",
   "id": "a487e674",
   "metadata": {},
   "source": [
    "Фреймворк **Flask** имеет две основные зависимости. Подсистемы\n",
    "маршрутизации, отладки и интерфейса **WSGI (Web Server Gateway\n",
    "Interface)** заимствованы из проекта Werkzeug, а поддержка шаблонов – из проекта **Jinja2**. Проекты Werkzeug и Jinja2 были созданы основными разработчиками Flask."
   ]
  },
  {
   "cell_type": "markdown",
   "id": "5878db65",
   "metadata": {},
   "source": [
    "**Flask** не имеет *встроенной поддержки доступа к базам данных*, *проверки веб-форм*, *аутентификации пользователей* или других высокоуровневых задач. Существует и множество иных ключевых служб,\n",
    "необходимых большинству веб-приложений и доступных в виде расширений, интегрируемых с основными пакетами. Как разработчик вы\n",
    "можете выбирать расширения, лучше всего подходящие для вашего проекта, или даже писать собственные, если чувствуете, что вам это удастся\n",
    "лучше. Этим Flask отличается от крупных фреймворков, где выбор уже\n",
    "сделан за вас, который очень сложно изменить, если вообще возможно."
   ]
  },
  {
   "cell_type": "code",
   "execution_count": 1,
   "id": "d5700529",
   "metadata": {},
   "outputs": [
    {
     "name": "stdout",
     "output_type": "stream",
     "text": [
      "Collecting flask\n",
      "  Downloading flask-3.0.0-py3-none-any.whl (99 kB)\n",
      "                                              0.0/99.7 kB ? eta -:--:--\n",
      "     ----                                     10.2/99.7 kB ? eta -:--:--\n",
      "     -----------                            30.7/99.7 kB 325.1 kB/s eta 0:00:01\n",
      "     ---------------                        41.0/99.7 kB 279.3 kB/s eta 0:00:01\n",
      "     -----------------------------------    92.2/99.7 kB 476.3 kB/s eta 0:00:01\n",
      "     -------------------------------------- 99.7/99.7 kB 520.3 kB/s eta 0:00:00\n",
      "Collecting Werkzeug>=3.0.0 (from flask)\n",
      "  Downloading werkzeug-3.0.1-py3-none-any.whl (226 kB)\n",
      "                                              0.0/226.7 kB ? eta -:--:--\n",
      "     ------------------                     112.6/226.7 kB 3.3 MB/s eta 0:00:01\n",
      "     --------------------                   122.9/226.7 kB 1.4 MB/s eta 0:00:01\n",
      "     -------------------------------------- 226.7/226.7 kB 1.7 MB/s eta 0:00:00\n",
      "Requirement already satisfied: Jinja2>=3.1.2 in c:\\users\\79618\\mambaforge\\lib\\site-packages (from flask) (3.1.2)\n",
      "Collecting itsdangerous>=2.1.2 (from flask)\n",
      "  Using cached itsdangerous-2.1.2-py3-none-any.whl (15 kB)\n",
      "Requirement already satisfied: click>=8.1.3 in c:\\users\\79618\\mambaforge\\lib\\site-packages (from flask) (8.1.7)\n",
      "Collecting blinker>=1.6.2 (from flask)\n",
      "  Downloading blinker-1.7.0-py3-none-any.whl (13 kB)\n",
      "Requirement already satisfied: colorama in c:\\users\\79618\\mambaforge\\lib\\site-packages (from click>=8.1.3->flask) (0.4.6)\n",
      "Requirement already satisfied: MarkupSafe>=2.0 in c:\\users\\79618\\mambaforge\\lib\\site-packages (from Jinja2>=3.1.2->flask) (2.1.1)\n",
      "Installing collected packages: Werkzeug, itsdangerous, blinker, flask\n",
      "  Attempting uninstall: Werkzeug\n",
      "    Found existing installation: Werkzeug 2.2.3\n",
      "    Uninstalling Werkzeug-2.2.3:\n",
      "      Successfully uninstalled Werkzeug-2.2.3\n",
      "Successfully installed Werkzeug-3.0.1 blinker-1.7.0 flask-3.0.0 itsdangerous-2.1.2\n"
     ]
    }
   ],
   "source": [
    "!pip install flask"
   ]
  },
  {
   "cell_type": "markdown",
   "id": "50437e3a",
   "metadata": {},
   "source": [
    "## Структура простого приложения"
   ]
  },
  {
   "cell_type": "markdown",
   "id": "fdb95ee4",
   "metadata": {},
   "source": [
    "Любое приложение на основе Flask должно создать экземпляр приложения. Веб-сервер будет передавать все запросы, принимаемые от\n",
    "клиентов, этому объекту через протокол, который называется Web\n",
    "Server Gateway Interface (WSGI). \n",
    "\n",
    "**Экземпляр приложения** – это объект класса Flask, который обычно создается так:"
   ]
  },
  {
   "cell_type": "code",
   "execution_count": 2,
   "id": "25ffc887",
   "metadata": {},
   "outputs": [],
   "source": [
    "from flask import Flask\n",
    "app = Flask(__name__)"
   ]
  },
  {
   "cell_type": "markdown",
   "id": "ab1d68b6",
   "metadata": {},
   "source": [
    "Аргумент name, который передается конструктору Flask приложения, часто является источником недопонимания для начинающих разработчиков. Фреймворк Flask использует этот аргумент для определения пути к корневому каталогу приложения, чтобы позднее с его помощью находить файлы ресурсов."
   ]
  },
  {
   "cell_type": "markdown",
   "id": "e8266379",
   "metadata": {},
   "source": [
    "**Маршруты и функции представлений** \\\n",
    "Клиенты, такие как веб-браузеры, отправляют запросы веб-серверу,\n",
    "который, в свою очередь, отправляет их экземпляру приложения на\n",
    "основе Flask. Экземпляр приложения должен определить, какой код должен быть выполнен для обработки обращения к адресу URL в запросе, поэтому он должен хранить отображение адресов URL в функции на языке Python. Ассоциацию между адресом URL и функцией\n",
    "называют **маршрутом** (route)."
   ]
  },
  {
   "cell_type": "markdown",
   "id": "8936c38f",
   "metadata": {},
   "source": [
    "Проще всего определить маршрут в приложении на основе Flask\n",
    "с помощью декоратора ``app.route``, экспортируемого экземпляром приложения. Этот декоратор регистрирует декорируемую функцию как\n",
    "маршрут. Ниже показан пример объявления маршрута с помощью\n",
    "декоратора:"
   ]
  },
  {
   "cell_type": "code",
   "execution_count": 3,
   "id": "9fc83970",
   "metadata": {},
   "outputs": [],
   "source": [
    "@app.route('/')\n",
    "def index():\n",
    "    return '<h1>Hello World!</h1>'"
   ]
  },
  {
   "cell_type": "markdown",
   "id": "f9aa3d9a",
   "metadata": {},
   "source": [
    "**Декораторы** – это стандартная особенность языка Python, они способны изменять поведение функций. Часто декораторы используются для регистрации функций в качестве обработчиков событий."
   ]
  },
  {
   "cell_type": "markdown",
   "id": "e3cb9e42",
   "metadata": {},
   "source": [
    "В предыдущем примере функция ``index()`` регистрируется как обработчик запросов к корневому адресу URL приложения. Если бы это\n",
    "приложение было развернуто на сервере с доменным именем *www.\n",
    "example.com*, тогда попытка открыть страницу с адресом http://www.example.com в браузере привела бы к вызову ``index()`` на сервере. Возвращаемое значение этой функции называется ответом (**response**) – это то, что получит клиент. Если клиентом является веб-браузер, ответ будет интерпретироваться как документ, который требуется\n",
    "отобразить на экране."
   ]
  },
  {
   "cell_type": "markdown",
   "id": "8d9c6017",
   "metadata": {},
   "source": [
    "Функции, такие как ``index()``, называют **функциями представления**\n",
    "(view functions). Ответ, возвращаемый функцией представления, может быть простой строкой с разметкой HTML или иметь более сложную форму, как будет показано позднее."
   ]
  },
  {
   "cell_type": "markdown",
   "id": "45e75b09",
   "metadata": {},
   "source": [
    "Ниже определяется\n",
    "маршрут, включающий переменный компонент name:"
   ]
  },
  {
   "cell_type": "code",
   "execution_count": null,
   "id": "cb0fa016",
   "metadata": {},
   "outputs": [],
   "source": [
    "@app.route('/user/<name>')\n",
    "def user(name):\n",
    "    return '<h1>Hello, %s!</h1>' % name"
   ]
  },
  {
   "cell_type": "markdown",
   "id": "5773aeba",
   "metadata": {},
   "source": [
    "Фрагмент в угловых скобках – это переменная часть, то есть любой URL, совпадающий с постоянной частью, будет отображен в этот\n",
    "маршрут. При вызове функции представления Flask передаст ей динамический компонент в виде аргумента. В предыдущем примере\n",
    "аргумент name используется функцией представления для создания\n",
    "персонализированного ответа."
   ]
  },
  {
   "cell_type": "code",
   "execution_count": null,
   "id": "3fa14c61",
   "metadata": {},
   "outputs": [],
   "source": [
    "if __name__ == '__main__':\n",
    "    app.run(debug=True)"
   ]
  },
  {
   "cell_type": "markdown",
   "id": "e765346e",
   "metadata": {},
   "source": [
    "Идиома ``__name__ == '__main__'``, широко используемая в языке Python, гарантирует, что веб-сервер для разработки будет запускаться\n",
    "только при непосредственном выполнении сценария. Когда сценарий\n",
    "импортируется другим сценарием, предполагается, что родительский\n",
    "сценарий запустит другой сервер, поэтому вызов app.run() пропускается."
   ]
  },
  {
   "cell_type": "markdown",
   "id": "dc6a31cc",
   "metadata": {},
   "source": [
    "`"
   ]
  },
  {
   "cell_type": "markdown",
   "id": "94624159",
   "metadata": {},
   "source": [
    "`"
   ]
  },
  {
   "cell_type": "markdown",
   "id": "d7ff7ad1",
   "metadata": {},
   "source": [
    "`"
   ]
  },
  {
   "cell_type": "markdown",
   "id": "416b5793",
   "metadata": {},
   "source": [
    "`"
   ]
  },
  {
   "cell_type": "markdown",
   "id": "e8a441e0",
   "metadata": {},
   "source": [
    "`"
   ]
  },
  {
   "cell_type": "markdown",
   "id": "72fb80d3",
   "metadata": {},
   "source": [
    "`"
   ]
  },
  {
   "cell_type": "markdown",
   "id": "5ecdc994",
   "metadata": {},
   "source": [
    "`"
   ]
  }
 ],
 "metadata": {
  "kernelspec": {
   "display_name": "Python 3 (ipykernel)",
   "language": "python",
   "name": "python3"
  },
  "language_info": {
   "codemirror_mode": {
    "name": "ipython",
    "version": 3
   },
   "file_extension": ".py",
   "mimetype": "text/x-python",
   "name": "python",
   "nbconvert_exporter": "python",
   "pygments_lexer": "ipython3",
   "version": "3.10.12"
  },
  "toc": {
   "base_numbering": 1,
   "nav_menu": {},
   "number_sections": true,
   "sideBar": true,
   "skip_h1_title": false,
   "title_cell": "Table of Contents",
   "title_sidebar": "Contents",
   "toc_cell": false,
   "toc_position": {},
   "toc_section_display": true,
   "toc_window_display": false
  }
 },
 "nbformat": 4,
 "nbformat_minor": 5
}
